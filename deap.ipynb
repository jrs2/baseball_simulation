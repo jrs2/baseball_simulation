{
 "cells": [
  {
   "cell_type": "code",
   "execution_count": 1,
   "metadata": {},
   "outputs": [],
   "source": [
    "import random\n",
    "import string\n",
    "import numpy as np\n",
    "from deap import base, creator, tools\n",
    "from baseball_simulation import test, run_player_scenario, Player\n",
    "\n",
    "import multiprocessing\n",
    "pool = multiprocessing.Pool()\n"
   ]
  },
  {
   "cell_type": "code",
   "execution_count": 2,
   "metadata": {},
   "outputs": [
    {
     "name": "stdout",
     "output_type": "stream",
     "text": [
      "0.0\n",
      "1.0205078125\n",
      "1.0205078125\n"
     ]
    }
   ],
   "source": [
    "test()"
   ]
  },
  {
   "cell_type": "code",
   "execution_count": 3,
   "metadata": {},
   "outputs": [],
   "source": [
    "class Runner:\n",
    "    \n",
    "    def __init__(self, toolbox):\n",
    "        self.toolbox = toolbox\n",
    "        self.set_parameters(10, 5, 2)\n",
    "        \n",
    "    def set_parameters(self, population_size, iterations, n_matings):\n",
    "        self.iterations = iterations\n",
    "        self.population_size = population_size\n",
    "        self.n_matings = n_matings\n",
    "        \n",
    "    def set_fitness(self, population):\n",
    "        fitnesses = [ \n",
    "            (individual, self.toolbox.evaluate(individual)) \n",
    "            for individual in population \n",
    "        ]\n",
    "\n",
    "        for individual, fitness in fitnesses:\n",
    "            individual.fitness.values = (fitness,)\n",
    "            \n",
    "    def get_offspring(self, population):\n",
    "        n = len(population)\n",
    "        for _ in range(self.n_matings):\n",
    "            i1, i2 = np.random.choice(range(n), size=2, replace=False)\n",
    "\n",
    "            offspring1, offspring2 = \\\n",
    "                self.toolbox.mate(population[i1], population[i2])\n",
    "            \n",
    "            yield self.toolbox.mutate(offspring1)[0]\n",
    "            yield self.toolbox.mutate(offspring2)[0]\n",
    "    \n",
    "    @staticmethod\n",
    "    def pull_stats(population, iteration=1):\n",
    "        fitnesses = [ individual.fitness.values[0] for individual in population ]\n",
    "        return {\n",
    "            'i': iteration,\n",
    "            'mu': np.mean(fitnesses),\n",
    "            'std': np.std(fitnesses),\n",
    "            'max': np.max(fitnesses),\n",
    "            'min': np.min(fitnesses)\n",
    "        }  \n",
    "    \n",
    "    def Run(self):\n",
    "        population = self.toolbox.population(n=self.population_size)\n",
    "        self.set_fitness(population)\n",
    "        \n",
    "        stats = []\n",
    "        for iteration in list(range(1, self.iterations + 1)):\n",
    "            current_population = list(map(self.toolbox.clone, population))\n",
    "            offspring = list(self.get_offspring(current_population))            \n",
    "            for child in offspring:\n",
    "                current_population.append(child)\n",
    "            \n",
    "            ## reset fitness,\n",
    "            self.set_fitness(current_population)\n",
    "            \n",
    "            population[:] = self.toolbox.select(current_population, len(population))\n",
    "            stats.append(\n",
    "                Runner.pull_stats(population, iteration))\n",
    "            \n",
    "        return stats, population"
   ]
  },
  {
   "cell_type": "code",
   "execution_count": 4,
   "metadata": {},
   "outputs": [],
   "source": [
    "creator.create(\"FitnessMin\", base.Fitness, weights=(-1.0,))\n",
    "creator.create(\"Individual\", list, fitness=creator.FitnessMin)"
   ]
  },
  {
   "cell_type": "code",
   "execution_count": 5,
   "metadata": {},
   "outputs": [],
   "source": [
    "## globals,\n",
    "\n",
    "random.seed(11);\n",
    "np.random.seed(121);\n",
    "\n",
    "\n",
    "INDIVIDUAL_SIZE = 10\n",
    "POPULATION_SIZE = 200\n",
    "N_ITERATIONS = 100\n",
    "N_MATINGS = 50"
   ]
  },
  {
   "cell_type": "code",
   "execution_count": 6,
   "metadata": {},
   "outputs": [],
   "source": [
    "toolbox = base.Toolbox()\n",
    "\n",
    "## permutation setup for individual,\n",
    "toolbox.register(\"indices\", random.sample, range(INDIVIDUAL_SIZE), INDIVIDUAL_SIZE)\n",
    "toolbox.register(\"individual\", tools.initIterate, creator.Individual, toolbox.indices)\n",
    "\n",
    "## population setup,\n",
    "toolbox.register(\"population\", tools.initRepeat, list, toolbox.individual)"
   ]
  },
  {
   "cell_type": "code",
   "execution_count": 8,
   "metadata": {},
   "outputs": [],
   "source": [
    "players =[Player([0.7, 0.3, 0.0, 0.0, 0.0, 0.0]),\n",
    "          Player([0.5, 0.0, 0.0, 0.0, 0.0, 0.5]),\n",
    "          Player([0.5, 0.5, 0.0, 0.0, 0.0, 0.0]),\n",
    "          Player([0.4, 0.0, 0.0, 0.0, 0.0, 0.6]),\n",
    "          Player([0.5, 0.5, 0.0, 0.0, 0.0, 0.0]),\n",
    "          Player([0.6, 0.4, 0.0, 0.0, 0.0, 0.0]),\n",
    "          Player([0.4, 0.0, 0.0, 0.0, 0.0, 0.6]),\n",
    "          Player([0.8, 0.0, 0.0, 0.0, 0.0, 0.2]),\n",
    "          Player([0.5, 0.5, 0.0, 0.0, 0.0, 0.0]),\n",
    "          Player([0.7, 0.3, 0.0, 0.0, 0.0, 0.0])]\n",
    "\n",
    "players =[Player([1.0, 0.0, 0.0, 0.0, 0.0, 0.0]),\n",
    "          Player([0.5, 0.0, 0.0, 0.0, 0.0, 0.5]),\n",
    "          Player([0.5, 0.5, 0.0, 0.0, 0.0, 0.0]),\n",
    "          Player([0.4, 0.0, 0.0, 0.0, 0.0, 0.6]),\n",
    "          Player([0.5, 0.5, 0.0, 0.0, 0.0, 0.0]),\n",
    "          Player([0.6, 0.4, 0.0, 0.0, 0.0, 0.0]),\n",
    "          Player([0.4, 0.0, 0.0, 0.0, 0.0, 0.6]),\n",
    "          Player([1.0, 0.0, 0.0, 0.0, 0.0, 0.0]),\n",
    "          Player([0.5, 0.5, 0.0, 0.0, 0.0, 0.0]),\n",
    "          Player([1.0, 0.0, 0.0, 0.0, 0.0, 0.0])]\n",
    "\n",
    "initial_order = [0, 1,2,3,4,5,6,7,8,9]\n",
    "\n",
    "toolbox.register(\"evaluate\", run_player_scenario, players)\n",
    "toolbox.register(\"map\", pool.map)"
   ]
  },
  {
   "cell_type": "code",
   "execution_count": 9,
   "metadata": {},
   "outputs": [],
   "source": [
    "toolbox.register(\"mate\", tools.cxOrdered)\n",
    "toolbox.register(\"mutate\", tools.mutShuffleIndexes, indpb=0.01)\n",
    "toolbox.register(\"select\", tools.selTournament, tournsize=10)"
   ]
  },
  {
   "cell_type": "code",
   "execution_count": null,
   "metadata": {},
   "outputs": [],
   "source": [
    "a = Runner(toolbox)\n",
    "a.set_parameters(POPULATION_SIZE, N_ITERATIONS, N_MATINGS)\n",
    "\n",
    "stats, population = a.Run()"
   ]
  },
  {
   "cell_type": "code",
   "execution_count": null,
   "metadata": {},
   "outputs": [],
   "source": [
    "fitnesses = sorted([ \n",
    "    (i, toolbox.evaluate(individual), individual) \n",
    "    for i, individual in enumerate(population) \n",
    "], key=lambda x: x[1])\n",
    "\n",
    "fitnesses[:5]"
   ]
  },
  {
   "cell_type": "code",
   "execution_count": null,
   "metadata": {},
   "outputs": [],
   "source": [
    "%matplotlib notebook\n",
    "import matplotlib.pyplot as plt\n",
    "\n",
    "plt.figure(figsize=(15,5))\n",
    "\n",
    "plt.subplot(1,2,1)\n",
    "\n",
    "plt.scatter([ s['min'] for s in stats ], [ s['max'] for s in stats ], marker='*', s=[ (s['std'] + 1) / 20 for s in stats ])\n",
    "\n",
    "plt.title('min by max')\n",
    "plt.xlabel('min')\n",
    "plt.ylabel('max')\n",
    "\n",
    "plt.plot(stats[0]['min'], stats[0]['max'], marker='.', color='yellow')\n",
    "plt.plot(stats[-1]['min'], stats[-1]['max'], marker='.', color='red')\n",
    "\n",
    "\n",
    "plt.subplot(1,2,2)\n",
    "\n",
    "plt.scatter([ s['i'] for s in stats ], [ s['mu'] for s in stats ], marker='*', s=[ (s['std'] + 1)*10 for s in stats ])\n",
    "\n",
    "plt.title('average by iteration')\n",
    "plt.xlabel('iteration')\n",
    "plt.ylabel('average')\n",
    "\n",
    "plt.plot(stats[0]['i'], stats[0]['mu'], marker='.', color='yellow')\n",
    "plt.plot(stats[-1]['i'], stats[-1]['mu'], marker='.', color='red')\n",
    "\n",
    "plt.tight_layout()\n",
    "plt.show()"
   ]
  },
  {
   "cell_type": "markdown",
   "metadata": {},
   "source": [
    "# "
   ]
  }
 ],
 "metadata": {
  "kernelspec": {
   "display_name": "Python 3",
   "language": "python",
   "name": "python3"
  },
  "language_info": {
   "codemirror_mode": {
    "name": "ipython",
    "version": 3
   },
   "file_extension": ".py",
   "mimetype": "text/x-python",
   "name": "python",
   "nbconvert_exporter": "python",
   "pygments_lexer": "ipython3",
   "version": "3.7.6"
  }
 },
 "nbformat": 4,
 "nbformat_minor": 2
}
